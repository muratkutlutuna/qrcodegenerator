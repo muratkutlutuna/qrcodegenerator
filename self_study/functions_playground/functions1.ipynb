{
 "cells": [
  {
   "cell_type": "code",
   "execution_count": 3,
   "id": "47758acd",
   "metadata": {},
   "outputs": [
    {
     "name": "stdout",
     "output_type": "stream",
     "text": [
      "task completed\n",
      "2025-04-10 13:35:32.706771\n",
      "\n",
      "0\n",
      "1\n",
      "2\n",
      "3\n",
      "4\n",
      "5\n",
      "6\n",
      "7\n",
      "8\n",
      "9\n",
      "task completed\n",
      "2025-04-10 13:35:32.706882\n",
      "\n"
     ]
    }
   ],
   "source": [
    "import datetime\n",
    "# Print the current time\n",
    "def print_time():\n",
    "    print('task completed')\n",
    "    print(datetime.datetime.now())\n",
    "    print()\n",
    "\n",
    "first_name = 'Murat'\n",
    "print_time()\n",
    "\n",
    "for x in range(0,10):\n",
    "    print(x)\n",
    "print_time()"
   ]
  },
  {
   "cell_type": "code",
   "execution_count": null,
   "id": "d141c9af",
   "metadata": {},
   "outputs": [
    {
     "name": "stdout",
     "output_type": "stream",
     "text": [
      "first name assigned\n",
      "2025-04-10 13:37:49.570577\n",
      "\n",
      "0\n",
      "1\n",
      "2\n",
      "3\n",
      "4\n",
      "5\n",
      "6\n",
      "7\n",
      "8\n",
      "9\n",
      "loop completed\n",
      "2025-04-10 13:37:49.570695\n",
      "\n"
     ]
    }
   ],
   "source": [
    "from datetime import datetime\n",
    "# Print the current time and task name\n",
    "def print_time(task_name):\n",
    "    print(task_name)\n",
    "    print(datetime.now())\n",
    "    print()\n",
    "\n",
    "first_name = 'Murat'\n",
    "print_time('first name assigned')\n",
    "\n",
    "for x in range(0,10):\n",
    "    print(x)\n",
    "print_time('loop completed')"
   ]
  },
  {
   "cell_type": "code",
   "execution_count": 9,
   "id": "2e8a5230",
   "metadata": {},
   "outputs": [
    {
     "name": "stdout",
     "output_type": "stream",
     "text": [
      "Your initials are:  ds\n"
     ]
    }
   ],
   "source": [
    "def get_initial(name):\n",
    "    initial = name[0:1]\n",
    "    return initial\n",
    "\n",
    "first_name = input('Enter your first name: ')\n",
    "first_name_initial = get_initial(first_name)\n",
    "\n",
    "last_name = input('Enter your last name: ')\n",
    "last_name_initial = get_initial(last_name)\n",
    "\n",
    "print('Your initials are: ', first_name_initial\\\n",
    "       + last_name_initial)"
   ]
  },
  {
   "cell_type": "code",
   "execution_count": 10,
   "id": "4970d8a4",
   "metadata": {},
   "outputs": [
    {
     "name": "stdout",
     "output_type": "stream",
     "text": [
      "Your initials are:  AM\n"
     ]
    }
   ],
   "source": [
    "def get_initial(name):\n",
    "    initial = name[0:1].upper()\n",
    "    return initial\n",
    "\n",
    "first_name = input('Enter your first name: ')\n",
    "first_name_initial = get_initial(first_name)\n",
    "\n",
    "last_name = input('Enter your last name: ')\n",
    "last_name_initial = get_initial(last_name)\n",
    "\n",
    "print('Your initials are: ', first_name_initial\\\n",
    "       + last_name_initial)"
   ]
  },
  {
   "cell_type": "code",
   "execution_count": 11,
   "id": "c79318a1",
   "metadata": {},
   "outputs": [
    {
     "name": "stdout",
     "output_type": "stream",
     "text": [
      "Your initials are:  AV\n"
     ]
    }
   ],
   "source": [
    "def get_initial(name):\n",
    "    initial = name[0:1].upper()\n",
    "    return initial\n",
    "\n",
    "first_name = input('Enter your first name: ')\n",
    "\n",
    "last_name = input('Enter your last name: ')\n",
    "\n",
    "print('Your initials are: ', get_initial(first_name)\\\n",
    "       + get_initial(last_name))"
   ]
  },
  {
   "cell_type": "code",
   "execution_count": null,
   "id": "cc3610e3",
   "metadata": {},
   "outputs": [],
   "source": []
  }
 ],
 "metadata": {
  "kernelspec": {
   "display_name": "Python 3",
   "language": "python",
   "name": "python3"
  },
  "language_info": {
   "codemirror_mode": {
    "name": "ipython",
    "version": 3
   },
   "file_extension": ".py",
   "mimetype": "text/x-python",
   "name": "python",
   "nbconvert_exporter": "python",
   "pygments_lexer": "ipython3",
   "version": "3.9.6"
  }
 },
 "nbformat": 4,
 "nbformat_minor": 5
}
