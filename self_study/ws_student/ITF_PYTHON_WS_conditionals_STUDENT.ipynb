{
 "cells": [
  {
   "cell_type": "markdown",
   "metadata": {},
   "source": [
    "<p>Considering the code below, write code that prints out <strong>True!</strong> if <strong>x </strong>has 50 characters or more.</p>"
   ]
  },
  {
   "cell_type": "code",
   "execution_count": 1,
   "metadata": {},
   "outputs": [
    {
     "name": "stdout",
     "output_type": "stream",
     "text": [
      "True\n",
      "True\n"
     ]
    }
   ],
   "source": [
    "x = \"The days of Python 2 are almost over. Python 3 is the king now.\"\n",
    "if len(x) > 50:\n",
    "    print(\"True\")\n",
    "print(True) if len(x) > 50 else print(False)"
   ]
  },
  {
   "cell_type": "markdown",
   "metadata": {},
   "source": [
    "<p>Considering the code below, write code that prints out <strong>True!</strong> if <strong>x </strong>is a string and the first character in the string is <strong>T</strong>.</p>"
   ]
  },
  {
   "cell_type": "code",
   "execution_count": 2,
   "metadata": {},
   "outputs": [
    {
     "name": "stdout",
     "output_type": "stream",
     "text": [
      "True\n"
     ]
    }
   ],
   "source": [
    "x = \"The days of Python 2 are almost over. Python 3 is the king now.\"\n",
    "\n",
    "print(\"True\") if str.isascii(x) and x[0] == \"T\" else print(\"False\")"
   ]
  },
  {
   "cell_type": "markdown",
   "metadata": {},
   "source": [
    "<p>Considering the code below, write code that prints out <strong>True!</strong> if at least one of the following conditions occurs: </p>\n",
    "<p>the string contains the character <strong>z </strong></p>\n",
    "<p>the string contains the character <strong>y </strong>at least twice</p>"
   ]
  },
  {
   "cell_type": "code",
   "execution_count": 15,
   "metadata": {},
   "outputs": [
    {
     "name": "stdout",
     "output_type": "stream",
     "text": [
      "True\n"
     ]
    }
   ],
   "source": [
    "x = \"The days of Python 2 are almost over. Python 3 is the king now.\"\n",
    "\n",
    "print(\"True\") if x.find(\"z\") > 0 or x.count(\"y\") > 1 else print(\"False\")"
   ]
  },
  {
   "cell_type": "markdown",
   "metadata": {},
   "source": [
    "<p>Considering the code below, write code that prints out <strong>True!</strong> if the index of the first occurrence of letter <strong>f </strong>is less than 10 and prints out <strong>False!</strong> if the same condition is not satisfied.</p>"
   ]
  },
  {
   "cell_type": "code",
   "execution_count": 18,
   "metadata": {},
   "outputs": [
    {
     "name": "stdout",
     "output_type": "stream",
     "text": [
      "False\n"
     ]
    }
   ],
   "source": [
    "x = \"The days of Python 2 are almost over. Python 3 is the king now.\"\n",
    "\n",
    "print(\"True\") if 0 < x.find(\"f\") < 10 else print(\"False\")"
   ]
  },
  {
   "cell_type": "markdown",
   "metadata": {},
   "source": [
    "<p>Considering the code below, write code that prints out <strong>True!</strong> if the last 3 characters of the string are all digits and prints out <strong>False!</strong> otherwise.</p>\n",
    "<em> Use the appropriate method to check if the requested string slice contains digits only.</em>"
   ]
  },
  {
   "cell_type": "code",
   "execution_count": 22,
   "metadata": {},
   "outputs": [
    {
     "name": "stdout",
     "output_type": "stream",
     "text": [
      "False\n"
     ]
    }
   ],
   "source": [
    "x = \"The days of Python 2 are almost over. Python 3 is the king now.\"\n",
    "\n",
    "print(True) if x[-3].isdigit() else print(False)"
   ]
  },
  {
   "cell_type": "markdown",
   "metadata": {},
   "source": [
    "<p>Considering the code below, write code that prints out <strong>True!</strong> if <strong>x </strong>has at least 8 elements and the element positioned at index 6 is a floating-point number and prints out <strong>False!</strong> otherwise.</p>"
   ]
  },
  {
   "cell_type": "code",
   "execution_count": 25,
   "metadata": {},
   "outputs": [
    {
     "name": "stdout",
     "output_type": "stream",
     "text": [
      "True\n"
     ]
    }
   ],
   "source": [
    "x = [115, 115.9, 116.01, [\"length\", \"width\", \"height\"], 109, 115, 119.5, [\"length\", \"width\", \"height\"]]\n",
    "\n",
    "print(True) if len(x) >= 8 and isinstance(x[6], float) else print(False)"
   ]
  },
  {
   "cell_type": "markdown",
   "metadata": {},
   "source": [
    "<p>Considering the code below, write code that prints out <strong>True!</strong> if the second string of the first list in <strong>x </strong>ends with the letter <strong>h </strong>and the first string of the second list in <strong>x </strong>also ends with the letter <strong>h</strong>, and prints out <strong>False!</strong> otherwise.</p>"
   ]
  },
  {
   "cell_type": "code",
   "execution_count": 27,
   "metadata": {},
   "outputs": [
    {
     "name": "stdout",
     "output_type": "stream",
     "text": [
      "True\n"
     ]
    }
   ],
   "source": [
    "x = [115, 115.9, 116.01, [\"length\", \"width\", \"height\"], 109, 115, 119.5, [\"length\", \"width\", \"height\"]]\n",
    "\n",
    "print(True) if x[7][0].endswith(\"h\") and x[3][1].endswith(\"h\") else print(False)"
   ]
  },
  {
   "cell_type": "markdown",
   "metadata": {},
   "source": [
    "<p>Considering the code below, write code that prints out <strong>True!</strong> if one of the following two conditions are satisfied and prints out <strong>False!</strong> otherwise.</p>\n",
    "<p>the third string of the first list in <strong>x </strong>ends with the letter <strong>h </strong></p>\n",
    "<p>the second string of the second list in <strong>x </strong>also ends with the letter <strong>h</strong></p>"
   ]
  },
  {
   "cell_type": "code",
   "execution_count": 28,
   "metadata": {},
   "outputs": [
    {
     "name": "stdout",
     "output_type": "stream",
     "text": [
      "True\n"
     ]
    }
   ],
   "source": [
    "x = [115, 115.9, 116.01, [\"length\", \"width\", \"height\"], 109, 115, 119.5, [\"length\", \"width\", \"height\"]]\n",
    "\n",
    "print(True) if x[3][2].endswith(\"h\") or x[7][1].endswith(\"h\") else print(False)"
   ]
  },
  {
   "cell_type": "markdown",
   "metadata": {},
   "source": [
    "<p>Considering the code below, write code that prints out <strong>True!</strong> if the largest value among the first 3 elements of the list is less than or equal to the smallest value among the next 3 elements of the list. Otherwise, print out <strong>False!</strong></p>\n",
    "<p><strong><em>Hint!</em></strong><em> Use the appropriate slices to make the comparison.</em></p>"
   ]
  },
  {
   "cell_type": "code",
   "execution_count": 31,
   "metadata": {},
   "outputs": [
    {
     "name": "stdout",
     "output_type": "stream",
     "text": [
      "False\n"
     ]
    }
   ],
   "source": [
    "x = [115, 115.9, 116.01, 109, 115, 119.5, [\"length\", \"width\", \"height\"]]\n",
    "\n",
    "print(True) if max(x[:3]) <= min(x[3:6]) else print(False)"
   ]
  },
  {
   "cell_type": "markdown",
   "metadata": {},
   "source": [
    "<p>Considering the code below, write code that prints out <strong>True!</strong> if <strong>115 </strong>appears at least once inside the list or if it is the first element in the list. Otherwise, print out <strong>False!</strong></p>\n",
    "<p><strong><em>Hint!</em></strong><em> Use the appropriate method to check if </em><strong><em>115 </em></strong><em>is the first element in the list.</em></p>"
   ]
  },
  {
   "cell_type": "code",
   "execution_count": 33,
   "metadata": {},
   "outputs": [
    {
     "name": "stdout",
     "output_type": "stream",
     "text": [
      "True\n"
     ]
    }
   ],
   "source": [
    "x = [115, 115.9, 116.01, 109, 115, 119.5, [\"length\", \"width\", \"height\"]]\n",
    "\n",
    "print(True) if x[0] == 115 or x.count(115) > 0 else print(False)"
   ]
  },
  {
   "cell_type": "markdown",
   "metadata": {},
   "source": [
    "<p>Considering the code below, write code that prints out <strong>True!</strong> if the value associated with key number <strong>5 </strong>is <strong>Perl </strong>or the number of key-value pairs in the dictionary divided by 5 returns a remainder less than 2. Otherwise, print out <strong>False!</strong></p>"
   ]
  },
  {
   "cell_type": "code",
   "execution_count": 35,
   "metadata": {},
   "outputs": [
    {
     "name": "stdout",
     "output_type": "stream",
     "text": [
      "True\n"
     ]
    }
   ],
   "source": [
    "x = {1: \"Python\", 2: \"Java\", 3: \"Javascript\", 4: \"Ruby\", 5: \"Perl\", 6: \"C#\", 7: \"C++\"}\n",
    "print(True) if x[5]=='Perl' or len(x)%5<2 else print(False)"
   ]
  },
  {
   "cell_type": "markdown",
   "metadata": {},
   "source": [
    "<p>Considering the code below, write code that prints out <strong>True!</strong> if <strong>3 </strong>is a key in the dictionary<strong> </strong>and the smallest value (alphabetically) in the dictionary is <strong>C#</strong>. Otherwise, print out <strong>False!</strong></p>"
   ]
  },
  {
   "cell_type": "code",
   "execution_count": 42,
   "metadata": {},
   "outputs": [
    {
     "name": "stdout",
     "output_type": "stream",
     "text": [
      "True\n",
      "C#\n"
     ]
    }
   ],
   "source": [
    "x = {1: \"Python\", 2: \"Java\", 3: \"Javascript\", 4: \"Ruby\", 5: \"Perl\", 6: \"C#\", 7: \"C++\"}\n",
    "\n",
    "print(True) if x.get(3)!=None or x.get(min(x, key=x.get))== \"C#\" else print(False)\n",
    "print(x.get(min(x, key=x.get)))"
   ]
  },
  {
   "cell_type": "markdown",
   "metadata": {},
   "source": [
    "<p>Considering the code below, write code that prints out <strong>True!</strong> if the last character of the largest (alphabetically) value in the dictionary is <strong>n</strong>. Otherwise, print out <strong>False!</strong></p>"
   ]
  },
  {
   "cell_type": "code",
   "execution_count": 56,
   "metadata": {},
   "outputs": [
    {
     "name": "stdout",
     "output_type": "stream",
     "text": [
      "False #\n"
     ]
    }
   ],
   "source": [
    "x = {1: \"Python\", 2: \"Java\", 3: \"Javascript\", 4: \"Ruby\", 5: \"Perl\", 6: \"C#\", 7: \"C++\"}\n",
    "\n",
    "print(min(x.values())==\"n\",min(x.values())[-1])\n"
   ]
  },
  {
   "cell_type": "markdown",
   "metadata": {},
   "source": [
    "<p>Considering the code below, write code that prints out <strong>True!</strong> if the largest key in the dictionary divided by the second largest key in the dictionary returns a remainder equal to the smallest key in the dictionary. Otherwise, print out <strong>False!</strong></p>"
   ]
  },
  {
   "cell_type": "code",
   "execution_count": 60,
   "metadata": {},
   "outputs": [
    {
     "name": "stdout",
     "output_type": "stream",
     "text": [
      "True\n"
     ]
    }
   ],
   "source": [
    "x = {1: \"Python\", 2: \"Java\", 3: \"Javascript\", 4: \"Ruby\", 5: \"Perl\", 6: \"C#\", 7: \"C++\"}\n",
    "print(max(x.keys())%sorted(x.keys())[-2]==min(x.keys()))"
   ]
  },
  {
   "cell_type": "markdown",
   "metadata": {},
   "source": [
    "<p>Considering the code below, write code that prints out <strong>True!</strong> if the sum of all the keys in the dictionary is less than the number of characters of the string obtained by concatenating the values associated with the first 5 keys in the dictionary. Otherwise, print out <strong>False!</strong></p>"
   ]
  },
  {
   "cell_type": "code",
   "execution_count": 81,
   "metadata": {},
   "outputs": [
    {
     "name": "stdout",
     "output_type": "stream",
     "text": [
      "False\n",
      "28 28\n"
     ]
    }
   ],
   "source": [
    "x = {1: \"Python\", 2: \"Java\", 3: \"Javascript\", 4: \"Ruby\", 5: \"Perl\", 6: \"C#\", 7: \"C++\"}\n",
    "print(sum(x.keys())<len(\"\".join(list(x.values())[:5])))\n",
    "print(sum(x.keys()),len(\"\".join(list(x.values())[:5])))\n"
   ]
  },
  {
   "cell_type": "markdown",
   "metadata": {},
   "source": [
    "<p>Considering the code below, write code that prints out <strong>True!</strong> if the 3rd element of the first range is less than 2, prints out <strong>False!</strong> if the 5th element of the first range is 5, and prints out <strong>None!</strong> otherwise.</p>"
   ]
  },
  {
   "cell_type": "code",
   "execution_count": 91,
   "metadata": {},
   "outputs": [
    {
     "name": "stdout",
     "output_type": "stream",
     "text": [
      "None!\n",
      "None!\n"
     ]
    }
   ],
   "source": [
    "x = [list(range(5)), list(range(5,9)), list(range(1,10,3))]\n",
    "if x[0][2]<2:\n",
    "    print(\"True!\")\n",
    "elif x[0][4]==5:\n",
    "    print(\"False!\")\n",
    "else:\n",
    "    print(\"None!\")\n",
    "\n",
    "print(\"True!\" if x[0][2] < 2 else \"False!\" if x[0][4] == 5 else \"None!\")\n"
   ]
  },
  {
   "cell_type": "markdown",
   "metadata": {},
   "source": [
    "<p>Considering the code below, write code that prints out <strong>True!</strong> if the 3rd element of the 3rd range is less than 6, prints out <strong>False!</strong> if the 1st element of the second range is 5, and prints out <strong>None!</strong> otherwise.</p>"
   ]
  },
  {
   "cell_type": "code",
   "execution_count": 92,
   "metadata": {},
   "outputs": [
    {
     "name": "stdout",
     "output_type": "stream",
     "text": [
      "None!\n"
     ]
    }
   ],
   "source": [
    "x = [list(range(5)), list(range(5,9)), list(range(1,10,3))]\n",
    "\n",
    "print(\"True!\" if x[2][2] < 6 else \"False!\" if x[0][1] == 5 else \"None!\")"
   ]
  },
  {
   "cell_type": "markdown",
   "metadata": {},
   "source": [
    "<p>Considering the code below, write code that prints out <strong>True!</strong> if the last element of the first range is greater than 3, prints out <strong>False!</strong> if the last element of the second range is less than 9, and prints out <strong>None!</strong> otherwise.</p>"
   ]
  },
  {
   "cell_type": "code",
   "execution_count": 93,
   "metadata": {},
   "outputs": [
    {
     "name": "stdout",
     "output_type": "stream",
     "text": [
      "False!\n"
     ]
    }
   ],
   "source": [
    "x = [list(range(5)), list(range(5,9)), list(range(1,10,3))]\n",
    "print(\"True!\" if x[-1][0] > 3 else \"False!\" if x[-1][1] < 9 else \"None!\")"
   ]
  },
  {
   "cell_type": "markdown",
   "metadata": {},
   "source": [
    "<p>Considering the code below, write code that prints out <strong>True!</strong> if the length of the first range is greater than or equal to 5, prints out <strong>False!</strong> if the length of the second range is 4, and prints out <strong>None!</strong> otherwise.</p>\n"
   ]
  },
  {
   "cell_type": "code",
   "execution_count": 94,
   "metadata": {},
   "outputs": [
    {
     "name": "stdout",
     "output_type": "stream",
     "text": [
      "True!\n"
     ]
    }
   ],
   "source": [
    "x = [list(range(5)), list(range(5,9)), list(range(1,10,3))]\n",
    "\n",
    "print(\"True!\" if len(x[0]) >= 5 else \"False!\" if len(x[1]) == 4 else \"None!\")"
   ]
  },
  {
   "cell_type": "markdown",
   "metadata": {},
   "source": [
    "<p>Considering the code below, write code that prints out <strong>True!</strong> if the sum of all the elements of the first range is greater than the sum of all the elements of the third range, prints out <strong>False!</strong> if the largest element of the second range is greater than the largest element of the third range, and prints out <strong>None!</strong> otherwise.</p>"
   ]
  },
  {
   "cell_type": "code",
   "execution_count": 95,
   "metadata": {},
   "outputs": [
    {
     "name": "stdout",
     "output_type": "stream",
     "text": [
      "False!\n"
     ]
    }
   ],
   "source": [
    "x = [list(range(5)), list(range(5,9)), list(range(1,10,3))]\n",
    "print(\"True!\" if sum(x[0]) > sum(x[2]) else \"False!\" if max(x[1]) > max(x[2]) else \"None!\")"
   ]
  },
  {
   "cell_type": "markdown",
   "metadata": {},
   "source": [
    "<p>Considering the code below, write code that prints out <strong>True!</strong> if the largest element of the first range minus the second element of the 3rd range is equal to the first element of the first range, prints out <strong>False!</strong> if the length of the first range minus the length of the 2nd range is equal to the first element of the 3rd range, prints out <strong>Maybe!</strong> if the sum of all the elements of the 3rd range divided by 2 returns a remainder of 0, and prints out <strong>None!</strong> otherwise.</p>"
   ]
  },
  {
   "cell_type": "code",
   "execution_count": 96,
   "metadata": {},
   "outputs": [
    {
     "name": "stdout",
     "output_type": "stream",
     "text": [
      "Maybe!\n"
     ]
    }
   ],
   "source": [
    "x = [list(range(5)), list(range(5,9)), list(range(1,10,3))]\n",
    "print(\"True!\" if max(x[0])-x[1][2] == x[0][0] else \"False!\" if len(x[0])-len(x[1]) == x[0][2] else \"Maybe!\" if sum(x[2])%2==0 else \"None!\")"
   ]
  },
  {
   "cell_type": "markdown",
   "metadata": {},
   "source": [
    "<p>Considering the code below, write code that prints out <strong>True!</strong> if the sum of the last 3 elements of the first range plus the sum of the last 3 elements of the 3rd range is equal to the sum of the last 3 elements of the 2nd range, and prints out <strong>False!</strong> if the length of the first range times 2 is less than the sum of all the elements of the 3rd range.</p>"
   ]
  },
  {
   "cell_type": "code",
   "execution_count": 97,
   "metadata": {},
   "outputs": [
    {
     "name": "stdout",
     "output_type": "stream",
     "text": [
      "False!\n"
     ]
    }
   ],
   "source": [
    "x = [list(range(5)), list(range(5,9)), list(range(1,10,3))]\n",
    "print(\"True!\" if sum(x[0][:-3])+sum(x[2][:-3]) == sum(x[1][:-3]) else \"False!\" if len(x[0])*2 < sum(x[2]) else None)"
   ]
  },
  {
   "cell_type": "markdown",
   "metadata": {},
   "source": [
    "<p>Considering the code below, write code that prints out <strong>True!</strong> if the 2nd character of the value at key 1 is also present in the value at key 4, and prints out <strong>False!</strong> otherwise.</p>"
   ]
  },
  {
   "cell_type": "code",
   "execution_count": 100,
   "metadata": {},
   "outputs": [
    {
     "name": "stdout",
     "output_type": "stream",
     "text": [
      "True\n"
     ]
    }
   ],
   "source": [
    "x = {1: \"Python\", 2: \"Java\", 3: \"Javascript\", 4: \"Ruby\", 5: \"Perl\", 6: \"C#\", 7: \"C++\"}\n",
    "print( x[4].find(x[1][1])>=0)"
   ]
  },
  {
   "cell_type": "markdown",
   "metadata": {},
   "source": [
    "<p>Considering the code below, write code that prints out <strong>True!</strong> if the second to last character of the value at key 3 is the first character of the value at key 5, and prints out <strong>False!</strong> otherwise.</p>"
   ]
  },
  {
   "cell_type": "code",
   "execution_count": 101,
   "metadata": {},
   "outputs": [
    {
     "name": "stdout",
     "output_type": "stream",
     "text": [
      "False\n"
     ]
    }
   ],
   "source": [
    "x = {1: \"Python\", 2: \"Java\", 3: \"Javascript\", 4: \"Ruby\", 5: \"Perl\", 6: \"C#\", 7: \"C++\"}\n",
    "print( x[5].startswith(x[3][1:]))"
   ]
  },
  {
   "cell_type": "markdown",
   "metadata": {},
   "source": [
    "<p>Considering the code below, write code that prints out <strong>True!</strong> if the number of characters of the smallest value in the dictionary is equal to the number of occurrences of letter <strong>a </strong>in the value at key 3, and prints out <strong>False!</strong> otherwise.</p>"
   ]
  },
  {
   "cell_type": "code",
   "execution_count": 111,
   "metadata": {},
   "outputs": [
    {
     "name": "stdout",
     "output_type": "stream",
     "text": [
      "True\n"
     ]
    }
   ],
   "source": [
    "x = {1: \"Python\", 2: \"Java\", 3: \"Javascript\", 4: \"Ruby\", 5: \"Perl\", 6: \"C#\", 7: \"C++\"}\n",
    "print(len(sorted(x.values(),key=len)[0])==x[3].count(\"a\"))\n"
   ]
  },
  {
   "cell_type": "markdown",
   "metadata": {},
   "source": []
  }
 ],
 "metadata": {
  "kernelspec": {
   "display_name": "Python 3",
   "language": "python",
   "name": "python3"
  },
  "language_info": {
   "codemirror_mode": {
    "name": "ipython",
    "version": 3
   },
   "file_extension": ".py",
   "mimetype": "text/x-python",
   "name": "python",
   "nbconvert_exporter": "python",
   "pygments_lexer": "ipython3",
   "version": "3.13.2"
  },
  "orig_nbformat": 4
 },
 "nbformat": 4,
 "nbformat_minor": 2
}
