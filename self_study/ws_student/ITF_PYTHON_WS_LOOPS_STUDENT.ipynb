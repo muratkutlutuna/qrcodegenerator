{
 "cells": [
  {
   "cell_type": "markdown",
   "metadata": {},
   "source": [
    "<p>Write a <strong>for </strong>loop that iterates over the <strong>x </strong>list and prints out all the elements of the list.</p>"
   ]
  },
  {
   "cell_type": "code",
   "execution_count": 1,
   "metadata": {},
   "outputs": [
    {
     "name": "stdout",
     "output_type": "stream",
     "text": [
      "10\n",
      "12\n",
      "13\n",
      "14\n",
      "17\n",
      "19\n",
      "21\n",
      "22\n",
      "25\n"
     ]
    }
   ],
   "source": [
    "x = [10, 12, 13, 14, 17, 19, 21, 22, 25]\n",
    "for i in x:\n",
    "    print(i)\n"
   ]
  },
  {
   "cell_type": "markdown",
   "metadata": {},
   "source": [
    "<p>Write a <strong>for </strong>loop that iterates over the <strong>x </strong>list and prints out the remainders of each element of the list divided by 3.</p>"
   ]
  },
  {
   "cell_type": "code",
   "execution_count": null,
   "metadata": {},
   "outputs": [
    {
     "name": "stdout",
     "output_type": "stream",
     "text": [
      "1\n",
      "0\n",
      "1\n",
      "2\n",
      "2\n",
      "1\n",
      "0\n",
      "1\n",
      "1\n"
     ]
    },
    {
     "data": {
      "text/plain": [
       "[1, 0, 1, 2, 2, 1, 0, 1, 1]"
      ]
     },
     "execution_count": 2,
     "metadata": {},
     "output_type": "execute_result"
    }
   ],
   "source": [
    "x = [10, 12, 13, 14, 17, 19, 21, 22, 25]\n",
    "for num in x:\n",
    "    print(num%3)\n",
    "\n",
    "reminders = list(num % 3 for num in x)\n",
    "reminders"
   ]
  },
  {
   "cell_type": "markdown",
   "metadata": {},
   "source": [
    "<p>Write a <strong>for </strong>loop that iterates over the <strong>x </strong>list and prints out all the elements of the list in reversed order and multiplied by 10.</p>"
   ]
  },
  {
   "cell_type": "code",
   "execution_count": 5,
   "metadata": {},
   "outputs": [
    {
     "name": "stdout",
     "output_type": "stream",
     "text": [
      "25\n",
      "22\n",
      "21\n",
      "19\n",
      "17\n",
      "14\n",
      "13\n",
      "12\n",
      "10\n"
     ]
    }
   ],
   "source": [
    "x = [10, 12, 13, 14, 17, 19, 21, 22, 25]\n",
    "for num in x[::-1]:\n",
    "    print(num)"
   ]
  },
  {
   "cell_type": "markdown",
   "metadata": {},
   "source": [
    "<p>Write a <strong>for </strong>loop that iterates over the <strong>x </strong>list and prints out all the elements of the list divided by 2 and the string<strong> Great job! </strong>after the list is exhausted.</p>"
   ]
  },
  {
   "cell_type": "code",
   "execution_count": 11,
   "metadata": {},
   "outputs": [
    {
     "name": "stdout",
     "output_type": "stream",
     "text": [
      "5\n",
      "6\n",
      "6\n",
      "7\n",
      "8\n",
      "9\n",
      "10\n",
      "11\n",
      "12\n",
      "Great Job!\n",
      "[5, 6, 6, 7, 8, 9, 10, 11, 12]\n"
     ]
    }
   ],
   "source": [
    "x = [10, 12, 13, 14, 17, 19, 21, 22, 25]\n",
    "y = []\n",
    "for num in x:\n",
    "    print(num//2)\n",
    "    y.append(num//2)\n",
    "else:\n",
    "    print(\"Great Job!\")\n",
    "\n",
    "two_divided = list(num//2 for num in x)\n",
    "print(two_divided)\n"
   ]
  },
  {
   "cell_type": "markdown",
   "metadata": {},
   "source": [
    "<p>Write a <strong>for </strong>loop that iterates over the <strong>x </strong>list and prints out the index of each element.</p>"
   ]
  },
  {
   "cell_type": "code",
   "execution_count": 13,
   "metadata": {},
   "outputs": [
    {
     "name": "stdout",
     "output_type": "stream",
     "text": [
      "0\n",
      "1\n",
      "2\n",
      "3\n",
      "4\n",
      "5\n",
      "6\n",
      "7\n",
      "8\n",
      "[0, 1, 2, 3, 4, 5, 6, 7, 8]\n"
     ]
    }
   ],
   "source": [
    "x = [10, 12, 13, 14, 17, 19, 21, 22, 25]\n",
    "for index in x:\n",
    "    print(x.index(index))\n",
    "\n",
    "index_lists = list(x.index(index) for index in x)\n",
    "print(index_lists)\n",
    "\n"
   ]
  },
  {
   "cell_type": "markdown",
   "metadata": {},
   "source": [
    "<p>Write a <strong>while </strong>loop that prints out the value of <strong>x </strong>squared while <strong>x </strong>is less than or equal to 5. Be careful not to end up with an infinite loop!</p>"
   ]
  },
  {
   "cell_type": "code",
   "execution_count": 14,
   "metadata": {},
   "outputs": [
    {
     "name": "stdout",
     "output_type": "stream",
     "text": [
      "0\n",
      "1\n",
      "4\n",
      "9\n",
      "16\n",
      "25\n"
     ]
    }
   ],
   "source": [
    "x = 0\n",
    "while x<=5:\n",
    "    print(x ** 2)\n",
    "    x += 1"
   ]
  },
  {
   "cell_type": "markdown",
   "metadata": {},
   "source": [
    "<p>Write a <strong>while </strong>loop that prints out the value of <strong>x </strong>times 10 while <strong>x </strong>is less than or equal to 4 and then prints out <strong>Done!</strong> when <strong>x </strong>becomes larger than 4. Be careful not to end up with an infinite loop!</p>"
   ]
  },
  {
   "cell_type": "code",
   "execution_count": 16,
   "metadata": {},
   "outputs": [
    {
     "name": "stdout",
     "output_type": "stream",
     "text": [
      "0\n",
      "10\n",
      "20\n",
      "30\n",
      "40\n",
      "Done!\n"
     ]
    }
   ],
   "source": [
    "x = 0\n",
    "while x <= 4:\n",
    "    print(x * 10)\n",
    "    x += 1\n",
    "print(\"Done!\")"
   ]
  },
  {
   "cell_type": "markdown",
   "metadata": {},
   "source": [
    "<p>Write a <strong>while </strong>loop that prints out the value of <strong>x </strong>plus 10 while <strong>x </strong>is less than or equal to 15 and the remainder of <strong>x </strong>divided by 5 is 0. Be careful not to end up with an infinite loop!</p>"
   ]
  },
  {
   "cell_type": "code",
   "execution_count": 17,
   "metadata": {},
   "outputs": [
    {
     "name": "stdout",
     "output_type": "stream",
     "text": [
      "20\n"
     ]
    }
   ],
   "source": [
    "x = 10\n",
    "while x <= 15 and x % 5==0:\n",
    "    print(x + 10)\n",
    "    x+=1\n",
    "\n",
    "\n"
   ]
  },
  {
   "cell_type": "markdown",
   "metadata": {},
   "source": [
    "<p>Write a <strong>while </strong>loop that prints out the absolute value of <strong>x </strong>while <strong>x </strong>is negative. Be careful not to end up with an infinite loop!</p>"
   ]
  },
  {
   "cell_type": "code",
   "execution_count": null,
   "metadata": {},
   "outputs": [
    {
     "name": "stdout",
     "output_type": "stream",
     "text": [
      "7\n",
      "6\n",
      "5\n",
      "4\n",
      "3\n",
      "2\n",
      "1\n"
     ]
    }
   ],
   "source": [
    "x = -7\n",
    "while x < 0:\n",
    "    print(-1 * x)\n",
    "    x += 1"
   ]
  },
  {
   "cell_type": "markdown",
   "metadata": {},
   "source": [
    "<p>Write a <strong>while </strong>loop that prints out the value of <strong>x </strong>times <strong>y </strong>while <strong>x </strong>is greater than or equal to 5 and less than 10, and prints out the result of <strong>x </strong>divided by <strong>y </strong>when <strong>x </strong>becomes 10. Be careful not to end up with an infinite loop!</p>"
   ]
  },
  {
   "cell_type": "code",
   "execution_count": 23,
   "metadata": {},
   "outputs": [
    {
     "name": "stdout",
     "output_type": "stream",
     "text": [
      "10\n",
      "12\n",
      "14\n",
      "16\n",
      "18\n",
      "5.0\n"
     ]
    }
   ],
   "source": [
    "x = 5\n",
    "y = 2\n",
    "while 10 > x >= 5:\n",
    "    print(x * y)\n",
    "    x += 1\n",
    "    if x == 10:\n",
    "        print(x/y)\n"
   ]
  },
  {
   "cell_type": "markdown",
   "metadata": {},
   "source": [
    "<p>Write code that will iterate over the <strong>x </strong>list and multiply by 10 only the elements that are greater than 20 and print them out to the screen.</p>\n",
    "<p><em>Hint: use nesting!</em></p>"
   ]
  },
  {
   "cell_type": "code",
   "execution_count": 24,
   "metadata": {},
   "outputs": [
    {
     "name": "stdout",
     "output_type": "stream",
     "text": [
      "210\n",
      "220\n",
      "250\n"
     ]
    }
   ],
   "source": [
    "x = [10, 12, 13, 14, 17, 19, 21, 22, 25]\n",
    "for num in x:\n",
    "    if num > 20:\n",
    "        num = num * 10\n",
    "        print(num)\n",
    "\n"
   ]
  },
  {
   "cell_type": "markdown",
   "metadata": {},
   "source": [
    "<p>Write code that will iterate over the <strong>x </strong>and <strong>y </strong>lists and multiply each element of <strong>x </strong>with each element of <strong>y</strong>, also printing the results to the screen.</p>\n",
    "<p><em>Hint: use nesting!</em></p>"
   ]
  },
  {
   "cell_type": "code",
   "execution_count": 26,
   "metadata": {},
   "outputs": [
    {
     "name": "stdout",
     "output_type": "stream",
     "text": [
      "2 x 5 = 10\n",
      "2 x 10 = 20\n",
      "4 x 5 = 20\n",
      "4 x 10 = 40\n",
      "6 x 5 = 30\n",
      "6 x 10 = 60\n"
     ]
    }
   ],
   "source": [
    "x = [2, 4, 6]\n",
    "y = [5, 10]\n",
    "for xi in x:\n",
    "    for yi in y:\n",
    "        print(xi,\"x\", yi, \"=\", xi * yi)\n"
   ]
  },
  {
   "cell_type": "markdown",
   "metadata": {},
   "source": [
    "<p>Write code that will iterate over the <strong>x </strong>and <strong>y </strong>lists and multiply each element of <strong>x </strong>with each element of <strong>y </strong>that is less than 12, also printing the results to the screen.</p>\n",
    "<p><em>Hint: use nesting!</em></p>"
   ]
  },
  {
   "cell_type": "code",
   "execution_count": 27,
   "metadata": {},
   "outputs": [
    {
     "name": "stdout",
     "output_type": "stream",
     "text": [
      "2 x 5 = 10\n",
      "2 x 10 = 20\n",
      "4 x 5 = 20\n",
      "4 x 10 = 40\n",
      "6 x 5 = 30\n",
      "6 x 10 = 60\n",
      "8 x 5 = 40\n",
      "8 x 10 = 80\n"
     ]
    }
   ],
   "source": [
    "x = [2, 4, 6, 8]\n",
    "y = [5, 10, 15, 20]\n",
    "for xi in x:\n",
    "    for yi in y:\n",
    "        if yi < 12:\n",
    "            print(xi,\"x\", yi, \"=\", xi * yi)"
   ]
  },
  {
   "cell_type": "markdown",
   "metadata": {},
   "source": [
    "<p>Write code that will iterate over the <strong>x </strong>and <strong>y </strong>lists and multiply each element of <strong>x </strong>that is greater than 5<strong> </strong>with each element of <strong>y </strong>that is less than 12, also printing the results to the screen.</p>"
   ]
  },
  {
   "cell_type": "code",
   "execution_count": 28,
   "metadata": {},
   "outputs": [
    {
     "name": "stdout",
     "output_type": "stream",
     "text": [
      "6 x 5 = 30\n",
      "6 x 10 = 60\n",
      "8 x 5 = 40\n",
      "8 x 10 = 80\n"
     ]
    }
   ],
   "source": [
    "x = [2, 4, 6, 8]\n",
    "y = [5, 10, 15, 20]\n",
    "for xi in x:\n",
    "    for yi in y:\n",
    "        if 5 < xi and yi < 12:\n",
    "            print(xi,\"x\", yi, \"=\", xi * yi)"
   ]
  },
  {
   "cell_type": "markdown",
   "metadata": {},
   "source": [
    "<p>Write code that will iterate over the <strong>x </strong>and <strong>y </strong>lists and multiply each element of <strong>x </strong>with each element of <strong>y </strong>that is less than or equal to 10, also printing the results to the screen. For <strong>y</strong>'s elements that are greater than 10, multiply each element of <strong>x </strong>with <strong>y </strong>squared.</p>"
   ]
  },
  {
   "cell_type": "code",
   "execution_count": 44,
   "metadata": {},
   "outputs": [
    {
     "name": "stdout",
     "output_type": "stream",
     "text": [
      "2 x 5 = 10\n",
      "2 x 10 = 20\n",
      "2 x 15² = 450\n",
      "2 x 20² = 800\n",
      "4 x 5 = 20\n",
      "4 x 10 = 40\n",
      "4 x 15² = 900\n",
      "4 x 20² = 1600\n",
      "6 x 5 = 30\n",
      "6 x 10 = 60\n",
      "6 x 15² = 1350\n",
      "6 x 20² = 2400\n",
      "8 x 5 = 40\n",
      "8 x 10 = 80\n",
      "8 x 15² = 1800\n",
      "8 x 20² = 3200\n"
     ]
    }
   ],
   "source": [
    "x = [2, 4, 6, 8]\n",
    "y = [5, 10, 15, 20]\n",
    "for xi in x:\n",
    "    for yi in y:\n",
    "        if yi <= 10:\n",
    "            print(xi,\"x\", yi, \"=\", xi * yi)\n",
    "        else:\n",
    "            print(xi,\" x \", yi, \"\\u00B2 = \", xi * yi ** 2, sep=\"\")\n"
   ]
  },
  {
   "cell_type": "markdown",
   "metadata": {},
   "source": [
    "<p>Write code that will print out each character in <strong>x </strong>doubled if that character is also inside <strong>y</strong>.</p>"
   ]
  },
  {
   "cell_type": "code",
   "execution_count": 47,
   "metadata": {},
   "outputs": [
    {
     "name": "stdout",
     "output_type": "stream",
     "text": [
      "{'o', 'n', 'c'}\n"
     ]
    }
   ],
   "source": [
    "x = \"cryptocurrency\"\n",
    "y = \"blockchain\"\n",
    "char_set = set()\n",
    "for char in y:\n",
    "    if char in x:\n",
    "        char_set.add(char)\n",
    "print(char_set)\n",
    "\n",
    "\n"
   ]
  },
  {
   "cell_type": "markdown",
   "metadata": {},
   "source": [
    "<p>Write code that will iterate over the range generated by <strong>range(9)</strong> and for each element that is between 3 and 7 inclusively print out the result of multiplying that element by the second element in the same range.</p>"
   ]
  },
  {
   "cell_type": "code",
   "execution_count": 2,
   "metadata": {},
   "outputs": [
    {
     "name": "stdout",
     "output_type": "stream",
     "text": [
      "3 x 3 = 9\n",
      "3 x 4 = 12\n",
      "3 x 5 = 15\n",
      "3 x 6 = 18\n",
      "3 x 7 = 21\n",
      "4 x 3 = 12\n",
      "4 x 4 = 16\n",
      "4 x 5 = 20\n",
      "4 x 6 = 24\n",
      "4 x 7 = 28\n",
      "5 x 3 = 15\n",
      "5 x 4 = 20\n",
      "5 x 5 = 25\n",
      "5 x 6 = 30\n",
      "5 x 7 = 35\n",
      "6 x 3 = 18\n",
      "6 x 4 = 24\n",
      "6 x 5 = 30\n",
      "6 x 6 = 36\n",
      "6 x 7 = 42\n",
      "7 x 3 = 21\n",
      "7 x 4 = 28\n",
      "7 x 5 = 35\n",
      "7 x 6 = 42\n",
      "7 x 7 = 49\n"
     ]
    }
   ],
   "source": [
    "my_range = range(9)\n",
    "for i in my_range:\n",
    "    if 3 <= i <= 7:\n",
    "        for j in range(3,8):\n",
    "            print(i, \"x\", j, \"=\", i * j)\n",
    "    "
   ]
  },
  {
   "cell_type": "markdown",
   "metadata": {},
   "source": [
    "<p>Write code that will iterate over the range starting at 1, up to but not including 11, with a step of 2, and for each element that is between 3 and 8 inclusively print out the result of multiplying that element by the last element in the same range. For any other element of the range (outside [3-8]) print <strong>Outside!</strong></p>"
   ]
  },
  {
   "cell_type": "code",
   "execution_count": 3,
   "metadata": {},
   "outputs": [
    {
     "name": "stdout",
     "output_type": "stream",
     "text": [
      "Outside!\n",
      "30\n",
      "50\n",
      "70\n",
      "Outside!\n"
     ]
    }
   ],
   "source": [
    "for i in range(1,11,2):\n",
    "    if 3 <= i <= 8:\n",
    "        print(i * 10)\n",
    "    else:\n",
    "        print(\"Outside!\")"
   ]
  },
  {
   "cell_type": "markdown",
   "metadata": {},
   "source": [
    "<p>Write code that will iterate over the range starting at 5, up to but not including 25, with a step of 5, and for each element that is between 10 and 21 inclusively print out the result of multiplying that element by the second to last element of the same range. For any other element of the range (outside [10-21]) print <strong>Outside! </strong>Finally, after the entire range is exhausted print out <strong>The end!</strong></p>"
   ]
  },
  {
   "cell_type": "code",
   "execution_count": 4,
   "metadata": {},
   "outputs": [
    {
     "name": "stdout",
     "output_type": "stream",
     "text": [
      "Outside!\n",
      "210\n",
      "315\n",
      "420\n",
      "The End!\n"
     ]
    }
   ],
   "source": [
    "for i in range(5,25,5):\n",
    "    if 10 <= i <= 21:\n",
    "        print(i * 21)\n",
    "    else:\n",
    "        print(\"Outside!\")\n",
    "else:\n",
    "    print(\"The End!\")"
   ]
  },
  {
   "cell_type": "markdown",
   "metadata": {},
   "source": [
    "<p>Write a <strong>while </strong>loop that prints out the value of <strong>x </strong>times 11 while <strong>x </strong>is less than or equal to 11.&nbsp; When x becomes equal to 10, print out <strong>x is 10!</strong> Be careful not to end up with an infinite loop!</p>"
   ]
  },
  {
   "cell_type": "code",
   "execution_count": 5,
   "metadata": {},
   "outputs": [
    {
     "name": "stdout",
     "output_type": "stream",
     "text": [
      "55\n",
      "66\n",
      "77\n",
      "88\n",
      "99\n",
      "110\n",
      "121\n"
     ]
    }
   ],
   "source": [
    "x = 5\n",
    "while x <= 11:\n",
    "    print(x*11)\n",
    "    x += 1\n"
   ]
  },
  {
   "cell_type": "markdown",
   "metadata": {},
   "source": [
    "<p>Insert a <strong>break </strong>statement where necessary in order to obtain the following result:</p>\n"
   ]
  },
  {
   "cell_type": "code",
   "execution_count": 37,
   "metadata": {},
   "outputs": [],
   "source": [
    "#output\n",
    "1\n",
    "1\n",
    "100\n",
    "20\n",
    "10\n"
   ]
  },
  {
   "cell_type": "code",
   "execution_count": null,
   "metadata": {},
   "outputs": [
    {
     "name": "stdout",
     "output_type": "stream",
     "text": [
      "1\n",
      "1\n",
      "100\n",
      "20\n",
      "10\n"
     ]
    }
   ],
   "source": [
    "x = [1, 2]\n",
    "y = [10, 100]\n",
    "\n",
    "for i in x:\n",
    "    for j in y:\n",
    "        if i % 2 == 0:\n",
    "            print(i * j)\n",
    "            break\n",
    "        print(i)\n",
    "    print(j)\n",
    "    "
   ]
  },
  {
   "cell_type": "markdown",
   "metadata": {},
   "source": [
    "<p>Insert a <strong>break </strong>statement where necessary in order to obtain the following result:</p>"
   ]
  },
  {
   "cell_type": "code",
   "execution_count": 39,
   "metadata": {},
   "outputs": [],
   "source": [
    "# output expected\n",
    "1\n",
    "10\n",
    "20\n",
    "2\n",
    "10"
   ]
  },
  {
   "cell_type": "code",
   "execution_count": 18,
   "metadata": {},
   "outputs": [
    {
     "name": "stdout",
     "output_type": "stream",
     "text": [
      "1\n",
      "10\n",
      "20\n",
      "2\n",
      "10\n"
     ]
    }
   ],
   "source": [
    "x = [1, 2]\n",
    "y = [10, 100]\n",
    "\n",
    "for i in x:\n",
    "    for j in y:\n",
    "        if i % 2 == 0:\n",
    "            print(i * j)\n",
    "        print(i)\n",
    "        break\n",
    "    print(j)"
   ]
  },
  {
   "cell_type": "markdown",
   "metadata": {},
   "source": [
    "<p>Insert a <strong>break </strong>statement where necessary in order to obtain the following result:</p>"
   ]
  },
  {
   "cell_type": "code",
   "execution_count": 17,
   "metadata": {},
   "outputs": [
    {
     "data": {
      "text/plain": [
       "10"
      ]
     },
     "execution_count": 17,
     "metadata": {},
     "output_type": "execute_result"
    }
   ],
   "source": [
    "#expected output\n",
    "1\n",
    "1\n",
    "100\n",
    "10"
   ]
  },
  {
   "cell_type": "code",
   "execution_count": 23,
   "metadata": {},
   "outputs": [
    {
     "name": "stdout",
     "output_type": "stream",
     "text": [
      "1\n",
      "1\n",
      "100\n",
      "10\n"
     ]
    }
   ],
   "source": [
    "x = [1, 2]\n",
    "y = [10, 100]\n",
    "\n",
    "for i in x:\n",
    "    for j in y:\n",
    "        if i % 2 == 0:\n",
    "            break\n",
    "            print(i * j)\n",
    "        print(i)\n",
    "    print(j)"
   ]
  },
  {
   "cell_type": "code",
   "execution_count": null,
   "metadata": {},
   "outputs": [],
   "source": []
  },
  {
   "cell_type": "markdown",
   "metadata": {},
   "source": [
    "<p>Insert a <strong>continue </strong>statement where necessary in order to obtain the following result:</p>"
   ]
  },
  {
   "cell_type": "code",
   "execution_count": 21,
   "metadata": {},
   "outputs": [
    {
     "data": {
      "text/plain": [
       "100"
      ]
     },
     "execution_count": 21,
     "metadata": {},
     "output_type": "execute_result"
    }
   ],
   "source": [
    "#expected output\n",
    "1\n",
    "1\n",
    "100\n",
    "20\n",
    "200\n",
    "100"
   ]
  },
  {
   "cell_type": "code",
   "execution_count": 35,
   "metadata": {},
   "outputs": [
    {
     "name": "stdout",
     "output_type": "stream",
     "text": [
      "1\n",
      "1\n",
      "100\n",
      "20\n",
      "200\n",
      "100\n"
     ]
    }
   ],
   "source": [
    "x = [1, 2]\n",
    "y = [10, 100]\n",
    "\n",
    "for i in x:\n",
    "    for j in y:\n",
    "        if i % 2 == 0:\n",
    "            print(i * j)\n",
    "            continue\n",
    "        print(i)\n",
    "    print(j)\n",
    "    "
   ]
  },
  {
   "cell_type": "code",
   "execution_count": null,
   "metadata": {},
   "outputs": [],
   "source": []
  },
  {
   "cell_type": "markdown",
   "metadata": {},
   "source": [
    "<p>Insert a <strong>continue </strong>statement where necessary in order to obtain the following result:</p>"
   ]
  },
  {
   "cell_type": "code",
   "execution_count": 22,
   "metadata": {},
   "outputs": [
    {
     "data": {
      "text/plain": [
       "100"
      ]
     },
     "execution_count": 22,
     "metadata": {},
     "output_type": "execute_result"
    }
   ],
   "source": [
    "#expected output\n",
    "1\n",
    "1\n",
    "100\n",
    "100"
   ]
  },
  {
   "cell_type": "code",
   "execution_count": 37,
   "metadata": {},
   "outputs": [
    {
     "name": "stdout",
     "output_type": "stream",
     "text": [
      "1\n",
      "1\n",
      "100\n",
      "100\n"
     ]
    }
   ],
   "source": [
    "x = [1, 2]\n",
    "y = [10, 100]\n",
    "\n",
    "for i in x:\n",
    "    for j in y:\n",
    "        if i % 2 == 0:\n",
    "            continue\n",
    "            print(i * j)\n",
    "        print(i)\n",
    "    print(j)"
   ]
  },
  {
   "cell_type": "markdown",
   "metadata": {},
   "source": []
  }
 ],
 "metadata": {
  "kernelspec": {
   "display_name": "Python 3",
   "language": "python",
   "name": "python3"
  },
  "language_info": {
   "codemirror_mode": {
    "name": "ipython",
    "version": 3
   },
   "file_extension": ".py",
   "mimetype": "text/x-python",
   "name": "python",
   "nbconvert_exporter": "python",
   "pygments_lexer": "ipython3",
   "version": "3.9.6"
  },
  "orig_nbformat": 4
 },
 "nbformat": 4,
 "nbformat_minor": 2
}
