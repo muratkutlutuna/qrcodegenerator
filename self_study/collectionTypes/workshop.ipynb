{
 "cells": [
  {
   "cell_type": "code",
   "execution_count": 1,
   "id": "d445df15",
   "metadata": {},
   "outputs": [
    {
     "data": {
      "text/plain": [
       "False"
      ]
     },
     "execution_count": 1,
     "metadata": {},
     "output_type": "execute_result"
    }
   ],
   "source": [
    "bool(())"
   ]
  },
  {
   "cell_type": "code",
   "execution_count": 8,
   "id": "b9795c54",
   "metadata": {},
   "outputs": [
    {
     "name": "stdout",
     "output_type": "stream",
     "text": [
      "False\n"
     ]
    }
   ],
   "source": [
    "if tuple():\n",
    "    print(\"True\")\n",
    "else:\n",
    "    print(\"False\")"
   ]
  },
  {
   "cell_type": "code",
   "execution_count": null,
   "id": "e28ac5c2",
   "metadata": {},
   "outputs": [],
   "source": [
    "prime = []  # created an empty list to collect prime numbers in it\n",
    "\n",
    "for num in range(2, 101):\n",
    "    print(\"for num in range(2, 101):\")\n",
    "    status = True\n",
    "    print(\"status = True\")\n",
    "    for i in range(2, num):\n",
    "        print(\"for i in range(2, num):\")\n",
    "        if num % i == 0:  # check if the only factors are 1 and itself\n",
    "            print(\"if num % i == 0:\")\n",
    "            status = False\n",
    "            print(\"status = False\")\n",
    "            break  # Optimization: no need to check further if not prime\n",
    "    print(\"break\")\n",
    "    if status:\n",
    "        print(\"if status:\")\n",
    "        prime.append(num)  # collect prime numbers in the list\n",
    "print(\"prime.append(num)\")\n",
    "print(prime)"
   ]
  },
  {
   "cell_type": "code",
   "execution_count": 11,
   "id": "ef949e40",
   "metadata": {},
   "outputs": [
    {
     "name": "stdout",
     "output_type": "stream",
     "text": [
      "for num in range(2, 101):\n",
      "status = True\n",
      "break\n",
      "if status:\n",
      "for num in range(2, 101):\n",
      "status = True\n",
      "for i in range(2, num):\n",
      "break\n",
      "if status:\n",
      "for num in range(2, 101):\n",
      "status = True\n",
      "for i in range(2, num):\n",
      "if num % i == 0:\n",
      "status = False\n",
      "break\n",
      "for num in range(2, 101):\n",
      "status = True\n",
      "for i in range(2, num):\n",
      "for i in range(2, num):\n",
      "for i in range(2, num):\n",
      "break\n",
      "if status:\n",
      "for num in range(2, 101):\n",
      "status = True\n",
      "for i in range(2, num):\n",
      "if num % i == 0:\n",
      "status = False\n",
      "break\n",
      "for num in range(2, 101):\n",
      "status = True\n",
      "for i in range(2, num):\n",
      "for i in range(2, num):\n",
      "for i in range(2, num):\n",
      "for i in range(2, num):\n",
      "for i in range(2, num):\n",
      "break\n",
      "if status:\n",
      "for num in range(2, 101):\n",
      "status = True\n",
      "for i in range(2, num):\n",
      "if num % i == 0:\n",
      "status = False\n",
      "break\n",
      "for num in range(2, 101):\n",
      "status = True\n",
      "for i in range(2, num):\n",
      "for i in range(2, num):\n",
      "if num % i == 0:\n",
      "status = False\n",
      "break\n",
      "for num in range(2, 101):\n",
      "status = True\n",
      "for i in range(2, num):\n",
      "if num % i == 0:\n",
      "status = False\n",
      "break\n",
      "for num in range(2, 101):\n",
      "status = True\n",
      "for i in range(2, num):\n",
      "for i in range(2, num):\n",
      "for i in range(2, num):\n",
      "for i in range(2, num):\n",
      "for i in range(2, num):\n",
      "for i in range(2, num):\n",
      "for i in range(2, num):\n",
      "for i in range(2, num):\n",
      "for i in range(2, num):\n"
     ]
    },
    {
     "ename": "KeyboardInterrupt",
     "evalue": "",
     "output_type": "error",
     "traceback": [
      "\u001b[31m---------------------------------------------------------------------------\u001b[39m",
      "\u001b[31mKeyboardInterrupt\u001b[39m                         Traceback (most recent call last)",
      "\u001b[36mCell\u001b[39m\u001b[36m \u001b[39m\u001b[32mIn[11]\u001b[39m\u001b[32m, line 12\u001b[39m\n\u001b[32m     10\u001b[39m \u001b[38;5;28;01mfor\u001b[39;00m i \u001b[38;5;129;01min\u001b[39;00m \u001b[38;5;28mrange\u001b[39m(\u001b[32m2\u001b[39m, num):\n\u001b[32m     11\u001b[39m     \u001b[38;5;28mprint\u001b[39m(\u001b[33m\"\u001b[39m\u001b[33mfor i in range(2, num):\u001b[39m\u001b[33m\"\u001b[39m)\n\u001b[32m---> \u001b[39m\u001b[32m12\u001b[39m     \u001b[43mtime\u001b[49m\u001b[43m.\u001b[49m\u001b[43msleep\u001b[49m\u001b[43m(\u001b[49m\u001b[32;43m1\u001b[39;49m\u001b[43m)\u001b[49m\n\u001b[32m     13\u001b[39m     \u001b[38;5;28;01mif\u001b[39;00m num % i == \u001b[32m0\u001b[39m:  \u001b[38;5;66;03m# check if the only factors are 1 and itself\u001b[39;00m\n\u001b[32m     14\u001b[39m         \u001b[38;5;28mprint\u001b[39m(\u001b[33m\"\u001b[39m\u001b[33mif num \u001b[39m\u001b[38;5;132;01m% i\u001b[39;00m\u001b[33m == 0:\u001b[39m\u001b[33m\"\u001b[39m)\n",
      "\u001b[31mKeyboardInterrupt\u001b[39m: "
     ]
    }
   ],
   "source": [
    "import time\n",
    "prime = []  # created an empty list to collect prime numbers in it\n",
    "\n",
    "for num in range(2, 101):\n",
    "    print(\"for num in range(2, 101):\")\n",
    "    time.sleep(1)\n",
    "    status = True\n",
    "    print(\"status = True\")\n",
    "    time.sleep(1)\n",
    "    for i in range(2, num):\n",
    "        print(\"for i in range(2, num):\")\n",
    "        time.sleep(1)\n",
    "        if num % i == 0:  # check if the only factors are 1 and itself\n",
    "            print(\"if num % i == 0:\")\n",
    "            time.sleep(1)\n",
    "            status = False\n",
    "            print(\"status = False\")\n",
    "            time.sleep(1)\n",
    "            break  # Optimization: no need to check further if not prime\n",
    "    print(\"break\")\n",
    "    time.sleep(1)\n",
    "    if status:\n",
    "        print(\"if status:\")\n",
    "        time.sleep(1)\n",
    "        prime.append(num)  # collect prime numbers in the list\n",
    "time.sleep(1)\n",
    "print(\"prime.append(num)\")\n",
    "print(prime)"
   ]
  },
  {
   "cell_type": "code",
   "execution_count": 1,
   "id": "dbeb3353",
   "metadata": {},
   "outputs": [
    {
     "name": "stdout",
     "output_type": "stream",
     "text": [
      "else:\n"
     ]
    }
   ],
   "source": [
    "while False:\n",
    "    print(\"while False:\")\n",
    "else:\n",
    "    print(\"else:\")"
   ]
  },
  {
   "cell_type": "code",
   "execution_count": null,
   "id": "b0a7671d",
   "metadata": {},
   "outputs": [],
   "source": []
  }
 ],
 "metadata": {
  "kernelspec": {
   "display_name": ".venv",
   "language": "python",
   "name": "python3"
  },
  "language_info": {
   "codemirror_mode": {
    "name": "ipython",
    "version": 3
   },
   "file_extension": ".py",
   "mimetype": "text/x-python",
   "name": "python",
   "nbconvert_exporter": "python",
   "pygments_lexer": "ipython3",
   "version": "3.13.2"
  }
 },
 "nbformat": 4,
 "nbformat_minor": 5
}
