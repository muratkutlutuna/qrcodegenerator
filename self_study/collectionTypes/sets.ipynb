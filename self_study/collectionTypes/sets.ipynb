{
 "cells": [
  {
   "cell_type": "code",
   "execution_count": null,
   "metadata": {},
   "outputs": [
    {
     "data": {
      "text/plain": [
       "<class 'set'>\n",
       "{'orange', 'red', 'yellow', 'darkblue', 'purple'}\n",
       "<class 'set'>\n",
       "{'orange', 'red', 'yellow', 'darkblue', 'purple'}\n"
      ]
     },
     "metadata": {},
     "output_type": "display_data"
    }
   ],
   "source": [
    "emptyset = set()\n",
    "print(type(emptyset))\n",
    "\n",
    "colorset = {'purple', 'orange', 'red', 'darkblue', 'yellow', 'red'}\n",
    "print(colorset)\n",
    "print(type(colorset))\n",
    "print(colorset)"
   ]
  },
  {
   "cell_type": "code",
   "execution_count": null,
   "metadata": {},
   "outputs": [
    {
     "data": {
      "text/plain": [
       "{'n', 'u', 'e', 'h', 'f', 'i', 's', 'l'}\n"
      ]
     },
     "metadata": {},
     "output_type": "display_data"
    }
   ],
   "source": [
    "s = set('unselfishness')\n",
    "print(s)"
   ]
  },
  {
   "cell_type": "code",
   "execution_count": null,
   "metadata": {},
   "outputs": [
    {
     "data": {
      "text/plain": [
       "{'orchid', 'violet', 'rose', 'carnation'}\n",
       "['orchid', 'violet', 'rose', 'carnation']\n"
      ]
     },
     "metadata": {},
     "output_type": "display_data"
    }
   ],
   "source": [
    "flower_list = ['rose', 'violet', 'carnation', 'rose', 'orchid', 'rose', 'orchid']\n",
    "flowerset = set(flower_list)\n",
    "flowerlist = list(flowerset)\n",
    "\n",
    "print(flowerset)\n",
    "print(flowerlist)"
   ]
  },
  {
   "cell_type": "code",
   "execution_count": null,
   "metadata": {},
   "outputs": [
    {
     "data": {
      "text/plain": [
       "<class 'list'>\n",
       "<class 'list'>\n",
       "Traceback (most recent call last):\n",
       "  File \"/Users/muratkutlutuna/.vscode/extensions/ms-python.python-2025.2.0-darwin-arm64/python_files/python_server.py\", line 133, in exec_user_input\n",
       "    retval = callable_(user_input, user_globals)\n",
       "  File \"<string>\", line 3, in <module>\n",
       "TypeError: unhashable type: 'list'\n",
       "\n"
      ]
     },
     "metadata": {},
     "output_type": "display_data"
    }
   ],
   "source": [
    "print(type([1,2,2,3,4,5]))\n",
    "print(type([[1,2],[3,4],[4,5]]))\n",
    "avar = set([[1,2],[3,4],[4,5]]) #lists are mutable\n",
    "# In Python, sets cannot have mutable elements like lists \n",
    "# because they need to be hashable.\n",
    "avar = set(((1,2), (3,4), (4,5)))  # Convert inner lists to tuples\n",
    "bvar = set([1,2,2,3,4,5]) # work correctly as they contain immutable elements \n",
    "                          # or are properly initialized as sets.\n",
    "cvar = {1,2,3,4}\n",
    "dvar = set((1,2,3,4))\n",
    "\n",
    "print(avar,bvar,cvar,dvar)"
   ]
  },
  {
   "cell_type": "code",
   "execution_count": null,
   "metadata": {},
   "outputs": [
    {
     "data": {
      "text/plain": [
       "{'a', 'd', 'c', 'r', 'b'}\n"
      ]
     },
     "metadata": {},
     "output_type": "display_data"
    }
   ],
   "source": [
    "a = set('abracadabra')\n",
    "print(a)\n"
   ]
  },
  {
   "cell_type": "code",
   "execution_count": null,
   "metadata": {},
   "outputs": [
    {
     "data": {
      "text/plain": [
       "{'d', 'r', 'b'}\n",
       "{'d', 'r', 'b'}\n"
      ]
     },
     "metadata": {},
     "output_type": "display_data"
    }
   ],
   "source": [
    "a = set('abracadabra')\n",
    "b = set('alacasam')\n",
    "\n",
    "print(a - b) # same as '.difference()' method\n",
    "print(a.difference(b)) # a difference from b"
   ]
  },
  {
   "cell_type": "code",
   "execution_count": null,
   "metadata": {},
   "outputs": [
    {
     "data": {
      "text/plain": [
       "{'a', 'd', 'm', 's', 'c', 'l', 'r', 'b'}\n",
       "{'a', 'd', 'm', 's', 'c', 'l', 'r', 'b'}\n"
      ]
     },
     "metadata": {},
     "output_type": "display_data"
    }
   ],
   "source": [
    "a = set('abracadabra')\n",
    "b = set('alacasam')\n",
    "\n",
    "print(a | b) # same as '.union()' method\n",
    "print(a.union(b)) # unification of a with b"
   ]
  },
  {
   "cell_type": "code",
   "execution_count": null,
   "metadata": {},
   "outputs": [
    {
     "data": {
      "text/plain": [
       "{'c', 'a'}\n",
       "{'c', 'a'}\n"
      ]
     },
     "metadata": {},
     "output_type": "display_data"
    }
   ],
   "source": [
    "a = set('abracadabra')\n",
    "b = set('alacasam')\n",
    "\n",
    "print(a & b) # same as '.intersection()' method\n",
    "print(a.intersection(b)) # intersection of a and b"
   ]
  },
  {
   "cell_type": "code",
   "execution_count": null,
   "metadata": {},
   "outputs": [
    {
     "data": {
      "text/plain": [
       "{'a', 'd', 'r', 'b'}\n"
      ]
     },
     "metadata": {},
     "output_type": "display_data"
    }
   ],
   "source": [
    "a = set('abracadabra')\n",
    "a.remove('c') # we delete 'c' from the set\n",
    "print(a)"
   ]
  },
  {
   "cell_type": "code",
   "execution_count": null,
   "metadata": {},
   "outputs": [
    {
     "data": {
      "text/plain": [
       "{'a', 'd', 'r', 'b'}\n",
       "{'a', 'd', 'c', 'r', 'b'}\n"
      ]
     },
     "metadata": {},
     "output_type": "display_data"
    }
   ],
   "source": [
    "a = set('abracadabra')\n",
    "a.remove('c') # we delete 'c' from the set\n",
    "print(a)\n",
    "a.add('c') # we delete 'c' from the set\n",
    "print(a)"
   ]
  }
 ],
 "metadata": {
  "language_info": {
   "name": "python"
  }
 },
 "nbformat": 4,
 "nbformat_minor": 2
}
