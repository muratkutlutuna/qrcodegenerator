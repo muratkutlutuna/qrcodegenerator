{
 "cells": [
  {
   "cell_type": "markdown",
   "metadata": {},
   "source": [
    "if condition:\n",
    "    body # the body code should start at indentation (four spaces)"
   ]
  },
  {
   "cell_type": "code",
   "execution_count": 2,
   "metadata": {},
   "outputs": [
    {
     "name": "stdout",
     "output_type": "stream",
     "text": [
      "it is true\n"
     ]
    }
   ],
   "source": [
    "if True:\n",
    "    print('it is true')"
   ]
  },
  {
   "cell_type": "code",
   "execution_count": 3,
   "metadata": {},
   "outputs": [
    {
     "name": "stdout",
     "output_type": "stream",
     "text": [
      "there is still seat to sit\n"
     ]
    }
   ],
   "source": [
    "empty_seat = 14\n",
    "\n",
    "if empty_seat > 3:\n",
    "    print('there is still seat to sit')"
   ]
  },
  {
   "cell_type": "code",
   "execution_count": 4,
   "metadata": {},
   "outputs": [
    {
     "name": "stdout",
     "output_type": "stream",
     "text": [
      "it is ClarusWay\n"
     ]
    }
   ],
   "source": [
    "course = 'ClarusWay'\n",
    "\n",
    "if course == 'ClarusWay':\n",
    "    print('it is ClarusWay')\n",
    "else:\n",
    "    print('it is not ClarusWay')"
   ]
  },
  {
   "cell_type": "code",
   "execution_count": 6,
   "metadata": {},
   "outputs": [
    {
     "name": "stdout",
     "output_type": "stream",
     "text": [
      "Number is greater than 3\n"
     ]
    }
   ],
   "source": [
    "number = 5\n",
    "if number <= 3:\n",
    "    print('Number is smaller than or equal to 3')\n",
    "else: # Optional clause (you cna only have one else)\n",
    "    print('Number is greater than 3')"
   ]
  },
  {
   "cell_type": "code",
   "execution_count": 7,
   "metadata": {},
   "outputs": [
    {
     "name": "stdout",
     "output_type": "stream",
     "text": [
      "I can lift that\n"
     ]
    }
   ],
   "source": [
    "weight = 80\n",
    "\n",
    "if weight > 100:\n",
    "    print(\"That's too heavy\")\n",
    "elif weight > 75:\n",
    "    print(\"I can lift that\")\n",
    "else:\n",
    "    print(\"That's too light\")"
   ]
  },
  {
   "cell_type": "code",
   "execution_count": 8,
   "metadata": {},
   "outputs": [
    {
     "name": "stdout",
     "output_type": "stream",
     "text": [
      "No such audience, stay at your home!\n"
     ]
    }
   ],
   "source": [
    "audience = \"baby\"\n",
    "\n",
    "if audience == \"kid\":\n",
    "    print(\"it is free to go to cinema\")\n",
    "elif audience == \"teen\":\n",
    "    print(\"discounted price\")\n",
    "elif audience == \"adult\":\n",
    "    print(\"full price\")\n",
    "else:\n",
    "    print(\"No such audience, stay at your home!\")"
   ]
  },
  {
   "cell_type": "code",
   "execution_count": 9,
   "metadata": {},
   "outputs": [
    {
     "name": "stdout",
     "output_type": "stream",
     "text": [
      "discounted price\n"
     ]
    }
   ],
   "source": [
    "audience_group = \"kid\", \"teen\", \"adult\"\n",
    "\n",
    "audience = \"teen\"\n",
    "\n",
    "if audience in audience_group:\n",
    "    if audience == \"kid\":\n",
    "        print(\"it is free to go to cinema\")\n",
    "    elif audience == \"teen\":\n",
    "        print(\"discounted price\")\n",
    "    elif audience == \"adult\":\n",
    "        print(\"full price\")\n",
    "else:\n",
    "    print(\"No such audience, stay at your home!\")"
   ]
  },
  {
   "cell_type": "code",
   "execution_count": 10,
   "metadata": {},
   "outputs": [
    {
     "name": "stdout",
     "output_type": "stream",
     "text": [
      "Your score: B+\n"
     ]
    }
   ],
   "source": [
    "score = int(input(\"Enter your score: \"))\n",
    "\n",
    "if score >= 90:\n",
    "    if score >= 95:\n",
    "        Score_letter = \"A+\"\n",
    "    else:\n",
    "        Score_letter = \"A\"\n",
    "elif score >= 80:\n",
    "    if score >= 85:\n",
    "        Score_letter = \"B+\"\n",
    "    else:\n",
    "        Score_letter = \"B\"\n",
    "else:\n",
    "    Score_letter = \"below B\"\n",
    "\n",
    "print(\"Your score: %s\" % Score_letter)"
   ]
  },
  {
   "cell_type": "code",
   "execution_count": 11,
   "metadata": {},
   "outputs": [
    {
     "name": "stdout",
     "output_type": "stream",
     "text": [
      "0.07\n"
     ]
    }
   ],
   "source": [
    "price = 2\n",
    "if price >= 1.00:\n",
    "    tax = .07\n",
    "    print(tax)"
   ]
  },
  {
   "cell_type": "code",
   "execution_count": 12,
   "metadata": {},
   "outputs": [
    {
     "name": "stdout",
     "output_type": "stream",
     "text": [
      "0.07\n"
     ]
    }
   ],
   "source": [
    "price = 2\n",
    "if price >= 1.00:\n",
    "    tax = .07\n",
    "    print(tax)\n",
    "else:\n",
    "    tax = 0\n",
    "    print(tax)"
   ]
  },
  {
   "cell_type": "code",
   "execution_count": 13,
   "metadata": {},
   "outputs": [
    {
     "name": "stdout",
     "output_type": "stream",
     "text": [
      "0.07\n"
     ]
    }
   ],
   "source": [
    "price = 2\n",
    "if price >= 1.00:\n",
    "    tax = .07\n",
    "else:\n",
    "    tax = 0\n",
    "print(tax)"
   ]
  },
  {
   "cell_type": "code",
   "execution_count": 15,
   "metadata": {},
   "outputs": [
    {
     "name": "stdout",
     "output_type": "stream",
     "text": [
      "it is canada\n"
     ]
    }
   ],
   "source": [
    "country = 'CANADA'\n",
    "\n",
    "if country.upper() == 'CANADA':\n",
    "    print('it is canada')\n",
    "else:\n",
    "    print('it is not canada')"
   ]
  },
  {
   "cell_type": "code",
   "execution_count": 16,
   "metadata": {},
   "outputs": [
    {
     "name": "stdout",
     "output_type": "stream",
     "text": [
      "0.13\n"
     ]
    }
   ],
   "source": [
    "province = 'Quebec'\n",
    "if province == 'Alberta':\n",
    "    tax = 0.05\n",
    "elif province == 'Ontario':\n",
    "    tax = 0.05\n",
    "elif province == 'Quebec':\n",
    "    tax = 0.13\n",
    "print(tax)"
   ]
  },
  {
   "cell_type": "code",
   "execution_count": 17,
   "metadata": {},
   "outputs": [
    {
     "name": "stdout",
     "output_type": "stream",
     "text": [
      "0.13\n"
     ]
    }
   ],
   "source": [
    "province = 'Quebec'\n",
    "if province == 'Alberta':\n",
    "    tax = 0.05\n",
    "elif province == 'Ontario':\n",
    "    tax = 0.05\n",
    "elif province == 'Quebec':\n",
    "    tax = 0.13\n",
    "else:\n",
    "    tax = 0.15\n",
    "print(tax)"
   ]
  },
  {
   "cell_type": "code",
   "execution_count": null,
   "metadata": {},
   "outputs": [],
   "source": [
    "province = 'Quebec'\n",
    "if province == 'Alberta' \\\n",
    "    or province == 'Ontario':\n",
    "    tax = 0.05\n",
    "elif province == 'Quebec':\n",
    "    tax = 0.13\n",
    "else:\n",
    "    tax = 0.15\n",
    "print(tax)"
   ]
  },
  {
   "cell_type": "code",
   "execution_count": 19,
   "metadata": {},
   "outputs": [
    {
     "name": "stdout",
     "output_type": "stream",
     "text": [
      "0.13\n"
     ]
    }
   ],
   "source": [
    "province = 'Quebec'\n",
    "if province in ('Alberta', 'Ontario', 'Yukon'):\n",
    "    tax = 0.05\n",
    "elif province == 'Quebec':\n",
    "    tax = 0.13\n",
    "else:\n",
    "    tax = 0.15\n",
    "print(tax)"
   ]
  },
  {
   "cell_type": "code",
   "execution_count": 21,
   "metadata": {},
   "outputs": [
    {
     "name": "stdout",
     "output_type": "stream",
     "text": [
      "0.13\n"
     ]
    }
   ],
   "source": [
    "province = 'Quebec'\n",
    "country = 'CANADA'\n",
    "if country == 'CANADA':\n",
    "    if province in ('Alberta', \\\n",
    "                    'Ontario', 'Yukon'):\n",
    "        tax = 0.05\n",
    "    elif province == 'Quebec':\n",
    "        tax = 0.13\n",
    "    else:\n",
    "        tax = 0.15\n",
    "else:\n",
    "    tax = 0\n",
    "print(tax)"
   ]
  },
  {
   "cell_type": "code",
   "execution_count": 22,
   "metadata": {},
   "outputs": [
    {
     "name": "stdout",
     "output_type": "stream",
     "text": [
      "Well done\n"
     ]
    }
   ],
   "source": [
    "gpa = .86\n",
    "lowest_grade = .78\n",
    "if gpa >= .85:\n",
    "    if lowest_grade >= .70:\n",
    "        print('Well done')\n",
    "\n"
   ]
  },
  {
   "cell_type": "code",
   "execution_count": 24,
   "metadata": {},
   "outputs": [
    {
     "name": "stdout",
     "output_type": "stream",
     "text": [
      "Well done\n"
     ]
    }
   ],
   "source": [
    "gpa = .86\n",
    "lowest_grade = .78\n",
    "if gpa >= .85 and lowest_grade >= .70:\n",
    "    print('Well done')\n"
   ]
  },
  {
   "cell_type": "code",
   "execution_count": 25,
   "metadata": {},
   "outputs": [
    {
     "name": "stdout",
     "output_type": "stream",
     "text": [
      "Well done\n"
     ]
    }
   ],
   "source": [
    "gpa = .86\n",
    "lowest_grade = .78\n",
    "if gpa >= .85 and lowest_grade >= .70:\n",
    "    honour_roll = True\n",
    "else:\n",
    "    honour_roll = False\n",
    "# somewhere later in you code\n",
    "if honour_roll:\n",
    "    print('Well done')"
   ]
  },
  {
   "cell_type": "code",
   "execution_count": 3,
   "metadata": {},
   "outputs": [
    {
     "name": "stdout",
     "output_type": "stream",
     "text": [
      "['abcdefcdghcd']\n"
     ]
    }
   ],
   "source": [
    "print('abcdefcdghcd'.split(' '))"
   ]
  }
 ],
 "metadata": {
  "kernelspec": {
   "display_name": "Python 3",
   "language": "python",
   "name": "python3"
  },
  "language_info": {
   "codemirror_mode": {
    "name": "ipython",
    "version": 3
   },
   "file_extension": ".py",
   "mimetype": "text/x-python",
   "name": "python",
   "nbconvert_exporter": "python",
   "pygments_lexer": "ipython3",
   "version": "3.9.6"
  }
 },
 "nbformat": 4,
 "nbformat_minor": 2
}
