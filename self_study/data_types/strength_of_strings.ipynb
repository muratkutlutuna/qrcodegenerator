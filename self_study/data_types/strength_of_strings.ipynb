{
 "cells": [
  {
   "cell_type": "code",
   "execution_count": null,
   "metadata": {},
   "outputs": [
    {
     "name": "stdout",
     "output_type": "stream",
     "text": [
      "Word :  Orange\n",
      "First letter :  O fruit[0]\n",
      "Second letter :  r fruit[1]\n",
      "3rd to 5th letters :  ang fruit[2:5]\n",
      "Letter all after 3rd :  ange fruit[2:]\n",
      "Orange fruit[:]\n",
      "Oag fruit[::2]\n",
      "ne\n",
      "enr\n"
     ]
    }
   ],
   "source": [
    "fruit = 'Orange'\n",
    "\n",
    "print('Word : ', fruit)\n",
    "print('First letter : ', fruit[0], \"fruit[0]\")\n",
    "print('Second letter : ', fruit[1], \"fruit[1]\")\n",
    "print('3rd to 5th letters : ', fruit[2:5], \"fruit[2:5]\")\n",
    "print('Letter all after 3rd : ', fruit[2:], \"fruit[2:]\")\n",
    "print(fruit[:], \"fruit[:]\")\n",
    "print(fruit[::2], \"fruit[::2]\") # string[::step] : returns each element with a given step\n",
    "print(fruit[-3::2]) # starts from the index -3 to the end by step 2\n",
    "print(fruit[::-2]) # negative step starts from the end to zero\n",
    "\n"
   ]
  },
  {
   "cell_type": "code",
   "execution_count": 12,
   "metadata": {},
   "outputs": [
    {
     "name": "stdout",
     "output_type": "stream",
     "text": [
      "length of the word \"Tomato\" is : 6\n"
     ]
    }
   ],
   "source": [
    "vegetable = 'Tomato'\n",
    "print('length of the word \"', vegetable, '\" is : ', len(vegetable), sep=\"\")"
   ]
  },
  {
   "cell_type": "code",
   "execution_count": 20,
   "metadata": {},
   "outputs": [
    {
     "name": "stdout",
     "output_type": "stream",
     "text": [
      "clarusway\n"
     ]
    }
   ],
   "source": [
    "print(\"clarus\" + \"way\")\n",
    "#print(\"clarus\" - \"way\") # TypeError: unsupported operand type(s) for -: 'str' and 'str'\n",
    "#print(\"clarus\" * \"way\") # TypeError: can't multiply sequence by non-int of type 'str'\n",
    "#print(\"clarus\" / \"way\") # TypeError: unsupported operand type(s) for /: 'str' and 'str'\n"
   ]
  },
  {
   "cell_type": "code",
   "execution_count": 14,
   "metadata": {},
   "outputs": [
    {
     "name": "stdout",
     "output_type": "stream",
     "text": [
      "No Way!No Way!No Way!\n"
     ]
    }
   ],
   "source": [
    "print(3*\"No Way!\")"
   ]
  },
  {
   "cell_type": "code",
   "execution_count": null,
   "metadata": {},
   "outputs": [
    {
     "name": "stdout",
     "output_type": "stream",
     "text": [
      "OrangeApple\n"
     ]
    },
    {
     "ename": "TypeError",
     "evalue": "unsupported operand type(s) for /=: 'str' and 'str'",
     "output_type": "error",
     "traceback": [
      "\u001b[0;31m---------------------------------------------------------------------------\u001b[0m",
      "\u001b[0;31mTypeError\u001b[0m                                 Traceback (most recent call last)",
      "Cell \u001b[0;32mIn[24], line 11\u001b[0m\n\u001b[1;32m      3\u001b[0m \u001b[38;5;28mprint\u001b[39m(fruit)\n\u001b[1;32m      5\u001b[0m \u001b[38;5;66;03m#fruit -= \"Apple\" # TypeError: unsupported operand type(s) for -=: 'str' and 'str'\u001b[39;00m\n\u001b[1;32m      6\u001b[0m \u001b[38;5;66;03m#print(fruit)\u001b[39;00m\n\u001b[1;32m      7\u001b[0m \n\u001b[1;32m      8\u001b[0m \u001b[38;5;66;03m#fruit *= \"Apple\" # TypeError: can't multiply sequence by non-int of type 'str'\u001b[39;00m\n\u001b[1;32m      9\u001b[0m \u001b[38;5;66;03m#print(fruit)\u001b[39;00m\n\u001b[0;32m---> 11\u001b[0m fruit \u001b[38;5;241m/\u001b[39m\u001b[38;5;241m=\u001b[39m \u001b[38;5;124m\"\u001b[39m\u001b[38;5;124mApple\u001b[39m\u001b[38;5;124m\"\u001b[39m\n\u001b[1;32m     12\u001b[0m \u001b[38;5;28mprint\u001b[39m(fruit)\n",
      "\u001b[0;31mTypeError\u001b[0m: unsupported operand type(s) for /=: 'str' and 'str'"
     ]
    }
   ],
   "source": [
    "fruit = \"Orange\"\n",
    "fruit += \"Apple\"\n",
    "print(fruit)\n",
    "\n",
    "#fruit -= \"Apple\" # TypeError: unsupported operand type(s) for -=: 'str' and 'str'\n",
    "#print(fruit)\n",
    "\n",
    "#fruit *= \"Apple\" # TypeError: can't multiply sequence by non-int of type 'str'\n",
    "#print(fruit)\n",
    "\n",
    "#fruit /= \"Apple\" # TypeError: unsupported operand type(s) for /=: 'str' and 'str'\n",
    "#print(fruit)\n"
   ]
  },
  {
   "cell_type": "markdown",
   "metadata": {},
   "source": [
    "Q: There are several ways in Python that we use when processing and using string data structures. What are the most important of these:A:\n",
    "\n",
    "Arithmetic syntax (+, * and =),\n",
    "\n",
    "% operator formatting,\n",
    "\n",
    "string.format() method,\n",
    "\n",
    "f-string formatting.\n"
   ]
  },
  {
   "cell_type": "code",
   "execution_count": 25,
   "metadata": {},
   "outputs": [
    {
     "name": "stdout",
     "output_type": "stream",
     "text": [
      "I have 4 children and 5.00 brothers\n"
     ]
    }
   ],
   "source": [
    "phrase = 'I have %d %s and %.2f brothers' %(4,\"children\", 5)\n",
    "print(phrase)"
   ]
  },
  {
   "cell_type": "markdown",
   "metadata": {},
   "source": [
    "In the '%s' syntax : s stands for 'string'.\n",
    "In the '%.2f' syntax : f stands for 'float'. In this example 2 digits after point.\n",
    "In the '%d' syntax : d stands for 'numeric'."
   ]
  },
  {
   "cell_type": "code",
   "execution_count": 26,
   "metadata": {},
   "outputs": [
    {
     "name": "stdout",
     "output_type": "stream",
     "text": [
      "apologizing\n"
     ]
    }
   ],
   "source": [
    "sentence = \"apologizing is a virtue\"\n",
    "print(\"%.11s\" % sentence) # we get first 11 characters of the string"
   ]
  },
  {
   "cell_type": "code",
   "execution_count": 35,
   "metadata": {},
   "outputs": [
    {
     "name": "stdout",
     "output_type": "stream",
     "text": [
      "33 pounds of bananas left\n",
      "'%(amount)d pounds of %(fruit)s left' % {'amount' : 33, 'fruit' : 'bananas'}\n"
     ]
    }
   ],
   "source": [
    "print('%(amount)d pounds of %(fruit)s left' % {'amount' : 33, 'fruit' : 'bananas'})\n",
    "print(\"'%(amount)d pounds of %(fruit)s left' % {'amount' : 33, 'fruit' : 'bananas'}\")"
   ]
  },
  {
   "cell_type": "markdown",
   "metadata": {},
   "source": [
    "% it is called placeholder in the string manupulation "
   ]
  },
  {
   "cell_type": "code",
   "execution_count": 29,
   "metadata": {},
   "outputs": [
    {
     "name": "stdout",
     "output_type": "stream",
     "text": [
      "The amount of Orange we bought is 4 pounds\n"
     ]
    }
   ],
   "source": [
    "fruit = 'Orange'\n",
    "vegetable = 'Tomato'\n",
    "amount = 4\n",
    "print('The amount of {} we bought is {} pounds'.format(fruit, amount))"
   ]
  },
  {
   "cell_type": "code",
   "execution_count": null,
   "metadata": {},
   "outputs": [
    {
     "name": "stdout",
     "output_type": "stream",
     "text": [
      "California is the most crowded state of the USA\n"
     ]
    }
   ],
   "source": [
    "print(\n",
    "    '{state} is the most {adjective} state of the {country}'\n",
    "        .format(\n",
    "            state = 'California', \n",
    "            country = 'USA', # If you have noticed, we do not have to write the keywords in .format() method in order.\n",
    "            adjective = 'crowded'\n",
    "        )\n",
    "    )"
   ]
  },
  {
   "cell_type": "code",
   "execution_count": null,
   "metadata": {},
   "outputs": [],
   "source": [
    "print(\n",
    "    '{0} is the most {adjective} state of the {country}'\n",
    "        .format(\n",
    "            'California', # Positional arguments are arguments that can be called by their position in the function or method definition. \n",
    "            country = 'USA', # Keyword arguments are arguments that can be called by their names.\n",
    "            adjective = 'crowded'\n",
    "        )\n",
    "    )"
   ]
  },
  {
   "cell_type": "code",
   "execution_count": 36,
   "metadata": {},
   "outputs": [
    {
     "name": "stdout",
     "output_type": "stream",
     "text": [
      "I will have found a job in 6 months\n"
     ]
    }
   ],
   "source": [
    "print(\n",
    "    '{6} {0} {5} {3} {4} {1} {2}'\n",
    "        .format(\n",
    "            'have', \n",
    "            6,\n",
    "            'months',\n",
    "            'a job',\n",
    "            'in',\n",
    "            'found',\n",
    "            'I will' \n",
    "        )\n",
    "    )"
   ]
  },
  {
   "cell_type": "markdown",
   "metadata": {},
   "source": [
    "Be careful not to write keyword arguments before positional arguments."
   ]
  },
  {
   "cell_type": "code",
   "execution_count": 37,
   "metadata": {},
   "outputs": [
    {
     "name": "stdout",
     "output_type": "stream",
     "text": [
      "The amount of Orange and Tomato we bought are totally 6 pounds\n"
     ]
    }
   ],
   "source": [
    "fruit = \"Orange\"\n",
    "vegetable = 'Tomato'\n",
    "amount = 6\n",
    "output = f\"The amount of {fruit} and {vegetable} we bought are totally {amount} pounds\"\n",
    "print(output)"
   ]
  },
  {
   "cell_type": "code",
   "execution_count": 38,
   "metadata": {},
   "outputs": [
    {
     "name": "stdout",
     "output_type": "stream",
     "text": [
      "20\n"
     ]
    }
   ],
   "source": [
    "result = f\"{4*5}\"\n",
    "print(result)"
   ]
  },
  {
   "cell_type": "code",
   "execution_count": 39,
   "metadata": {},
   "outputs": [
    {
     "name": "stdout",
     "output_type": "stream",
     "text": [
      "My name is Joseph\n"
     ]
    }
   ],
   "source": [
    "MY_NAME = \"JOSEPH\"\n",
    "output = f\"My name is {MY_NAME.capitalize()}\"\n",
    "print(output)"
   ]
  },
  {
   "cell_type": "code",
   "execution_count": 44,
   "metadata": {},
   "outputs": [
    {
     "name": "stdout",
     "output_type": "stream",
     "text": [
      "Hi Joseph. You are one of the teachers in the Data Science section.\n"
     ]
    }
   ],
   "source": [
    "# Multiline f-string example\n",
    "name = \"Joseph\"\n",
    "job = \"teachers\"\n",
    "domain = \"Data Science\"\n",
    "message = (\n",
    "    f\"Hi {name}. \"\n",
    "    f\"You are one of the {job} \"\n",
    "    f\"in the {domain} section.\"\n",
    ")\n",
    "print(message)"
   ]
  },
  {
   "cell_type": "code",
   "execution_count": null,
   "metadata": {},
   "outputs": [
    {
     "name": "stdout",
     "output_type": "stream",
     "text": [
      "Hi Joseph. You are one of the teachers in the Data Science section.\n"
     ]
    }
   ],
   "source": [
    "# If you want to use multiple f-string formatting lines \n",
    "# without parentheses, you will have the other option \n",
    "# that you can use backslash 👉🏻\\ between lines.\n",
    "name = \"Joseph\"\n",
    "job = \"teachers\"\n",
    "domain = \"Data Science\"\n",
    "message = f\"Hi {name}. \" \\\n",
    "    f\"You are one of the {job} \" \\\n",
    "    f\"in the {domain} section.\"\n",
    "print(message)"
   ]
  },
  {
   "cell_type": "code",
   "execution_count": null,
   "metadata": {},
   "outputs": [
    {
     "ename": "SyntaxError",
     "evalue": "unexpected character after line continuation character (4040635333.py, line 5)",
     "output_type": "error",
     "traceback": [
      "\u001b[0;36m  Cell \u001b[0;32mIn[46], line 5\u001b[0;36m\u001b[0m\n\u001b[0;31m    f\"You are one of the {job} \" \\\u001b[0m\n\u001b[0m                         ^\u001b[0m\n\u001b[0;31mSyntaxError\u001b[0m\u001b[0;31m:\u001b[0m unexpected character after line continuation character\n"
     ]
    }
   ],
   "source": [
    "name = \"Joseph\"\n",
    "job = \"teachers\"\n",
    "domain = \"Data Science\"\n",
    "message = f\"Hi {name}. \" \\\n",
    "    f\"You are one of the {job} \" \\ \n",
    "    f\"in the {domain} section.\"\n",
    "print(message) # I put space after \"\\\" backslash and it gives error"
   ]
  },
  {
   "cell_type": "code",
   "execution_count": null,
   "metadata": {},
   "outputs": [
    {
     "ename": "SyntaxError",
     "evalue": "invalid syntax (3222063203.py, line 4)",
     "output_type": "error",
     "traceback": [
      "\u001b[0;36m  Cell \u001b[0;32mIn[48], line 4\u001b[0;36m\u001b[0m\n\u001b[0;31m    message =\u001b[0m\n\u001b[0m              ^\u001b[0m\n\u001b[0;31mSyntaxError\u001b[0m\u001b[0;31m:\u001b[0m invalid syntax\n"
     ]
    }
   ],
   "source": [
    "name = \"Joseph\"\n",
    "job = \"teachers\"\n",
    "domain = \"Data Science\"\n",
    "message = \n",
    "    f\"Hi {name}. \" \\\n",
    "    f\"You are one of the {job} \" \\\n",
    "    f\"in the {domain} section.\"\n",
    "# befor f string putting break gives an error \"SyntaxError: invalid syntax\"\n",
    "print(message)"
   ]
  },
  {
   "cell_type": "code",
   "execution_count": 57,
   "metadata": {},
   "outputs": [
    {
     "name": "stdout",
     "output_type": "stream",
     "text": [
      "Hello, Christopher Harrison\n"
     ]
    }
   ],
   "source": [
    "first_name = 'Christopher'\n",
    "last_name = 'Harrison'\n",
    "\n",
    "output = 'Hello, {0} {1}'.format(first_name,last_name)\n",
    "print(output)"
   ]
  },
  {
   "cell_type": "markdown",
   "metadata": {},
   "source": [
    "STRING IS AN IMMUTABLE DATA TYPE\n",
    "This means you can't just change the string in place, \n",
    "so most string methods return a copy of the string."
   ]
  },
  {
   "cell_type": "code",
   "execution_count": 58,
   "metadata": {},
   "outputs": [
    {
     "name": "stdout",
     "output_type": "stream",
     "text": [
      "True\n",
      "False\n",
      "False\n"
     ]
    }
   ],
   "source": [
    "text = \"programming is easy\"\n",
    "result = text.startswith(('python', 'programming'))\n",
    "\n",
    "# prints True\n",
    "print(result)\n",
    "\n",
    "result = text.startswith(('is', 'easy', 'java'))\n",
    "\n",
    "# prints False\n",
    "print(result)\n",
    "\n",
    "# With start and end parameter\n",
    "# 'is easy' string is checked\n",
    "result = text.startswith(('programming', 'easy'), 12, 19)\n",
    "\n",
    "# prints False\n",
    "print(result)"
   ]
  },
  {
   "cell_type": "markdown",
   "metadata": {},
   "source": [
    "str.replace(old, new[, count]) replaces all occurrences of old with the new.\n",
    "str.swapcase() converts upper case to lower case and vice versa.\n",
    "str.capitalize() changes the first character of the string to the upper case and the rest to the lower case.\n",
    "str.upper() converts all characters of the string to the upper case.\n",
    "str.lower() converts all characters of the string to the lower case.\n",
    "str.title() converts the first character of each word to upper case.\n",
    "\n",
    "str.strip() : removes all spaces (or specified characters) from both sides.\n",
    "str.rstrip() : removes spaces (or specified characters) from the right side.\n",
    "str.lstrip() : removes spaces (or specified characters) from the left side."
   ]
  },
  {
   "cell_type": "code",
   "execution_count": null,
   "metadata": {},
   "outputs": [],
   "source": []
  }
 ],
 "metadata": {
  "kernelspec": {
   "display_name": "Python 3",
   "language": "python",
   "name": "python3"
  },
  "language_info": {
   "codemirror_mode": {
    "name": "ipython",
    "version": 3
   },
   "file_extension": ".py",
   "mimetype": "text/x-python",
   "name": "python",
   "nbconvert_exporter": "python",
   "pygments_lexer": "ipython3",
   "version": "3.9.6"
  }
 },
 "nbformat": 4,
 "nbformat_minor": 2
}
